{
 "cells": [
  {
   "cell_type": "markdown",
   "id": "05bd5198",
   "metadata": {},
   "source": [
    "# Data Science Tools and Ecosystem\n",
    "## Introduction\n",
    "In this notebook, Data Science Tools and Ecosystem are summarized."
   ]
  },
  {
   "cell_type": "markdown",
   "id": "82996cdf",
   "metadata": {},
   "source": [
    "### Data Science Languages\n",
    "Some of the popular languages that Data Scientists use are:\n",
    "- Python\n",
    "- R\n",
    "- C\n",
    "- C++\n",
    "- Java\n",
    "- Javascript"
   ]
  },
  {
   "cell_type": "markdown",
   "id": "ba290c96",
   "metadata": {},
   "source": [
    "### Data Science Libraries\n",
    "- TensorFlow\n",
    "- NumPy\n",
    "- SciPy\n",
    "- Pandas\n",
    "- Matplotlib\n",
    "- ggplot"
   ]
  },
  {
   "cell_type": "markdown",
   "id": "4107452c",
   "metadata": {},
   "source": [
    "### Data Science Tools\n",
    "\n",
    "|Data Management|Data Integraʃ & Transformaʃ|Data Vis|Model Deployment|Model Monitoring|Code & Data Asset Management|\n",
    "|-------|-------|-------|-------|-------|-------|\n",
    "|**Relational Databases**|Apache AirFlow by Airbnb|Pixie Dust|Apache PredictionIO|ModelDB|*Code Asset Management*|\n",
    "|MySQL|KubeFlow|Hue|Seldon|Prometheus|Git|\n",
    "|PostgreSQL|Apache Kafka from LinkedIn|Kibana|Kubernetes|IBM AI Fairness 360|GitHub|\n",
    "|**NoSQL Databases**|Apache Nifi|Aapache Superset|Redhat OpenShift|IBM Adversarial Robustness 360 Toolbox|GitLab|\n",
    "|MongoDB|Apache SparkSQL||Mleap|IBM AI Explainability 360|BitBucket|\n",
    "|Apache CouchDB|NodeRED||TensorFlow service||*Data Asset Management*|\n",
    "|Apache Cassandra|||TensorFlow lite||Apache Atlas|\n",
    "|**File-based Databases**|||TensorFlow dot JS||ODPi Egeria|\n",
    "|Hadoop File System|||||Kylo|\n",
    "|**Cloud Databases**||||||\n",
    "|Ceph||||||\n",
    "|Elastic Search||||||"
   ]
  },
  {
   "cell_type": "markdown",
   "id": "1f503659",
   "metadata": {},
   "source": [
    "### Below are a few examples of evaluating arithmetic expressions in Python.\n",
    "1. a + b\n",
    "2. a - b\n",
    "3. a * b (a x b)\n",
    "4. a / b (a ÷ b)"
   ]
  },
  {
   "cell_type": "code",
   "execution_count": 1,
   "id": "f3499480",
   "metadata": {},
   "outputs": [
    {
     "data": {
      "text/plain": [
       "17"
      ]
     },
     "execution_count": 1,
     "metadata": {},
     "output_type": "execute_result"
    }
   ],
   "source": [
    "# This a simple arithmetic expression to mutiply then add integers\n",
    "(3*4)+5"
   ]
  },
  {
   "cell_type": "code",
   "execution_count": 2,
   "id": "43fd37d4",
   "metadata": {},
   "outputs": [
    {
     "data": {
      "text/plain": [
       "3.3333333333333335"
      ]
     },
     "execution_count": 2,
     "metadata": {},
     "output_type": "execute_result"
    }
   ],
   "source": [
    "# Minutes to Hours\n",
    "# This will convert 200 minutes to hours by dividing by 60\n",
    "200 / 60"
   ]
  },
  {
   "cell_type": "markdown",
   "id": "370dd5b7",
   "metadata": {},
   "source": [
    "## Objectives\n",
    "- Data Science Languages\n",
    "- Data Science Libraries\n",
    "- Data Science Tools\n",
    "- Arithmetic Expression Examples"
   ]
  },
  {
   "cell_type": "markdown",
   "id": "c8b4f56d",
   "metadata": {},
   "source": [
    "## Author\n",
    "SS Tejasvini"
   ]
  },
  {
   "cell_type": "code",
   "execution_count": null,
   "id": "6b2284c2",
   "metadata": {},
   "outputs": [],
   "source": []
  }
 ],
 "metadata": {
  "kernelspec": {
   "display_name": "Python 3 (ipykernel)",
   "language": "python",
   "name": "python3"
  },
  "language_info": {
   "codemirror_mode": {
    "name": "ipython",
    "version": 3
   },
   "file_extension": ".py",
   "mimetype": "text/x-python",
   "name": "python",
   "nbconvert_exporter": "python",
   "pygments_lexer": "ipython3",
   "version": "3.10.11"
  }
 },
 "nbformat": 4,
 "nbformat_minor": 5
}
